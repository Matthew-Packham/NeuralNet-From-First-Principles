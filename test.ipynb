{
 "cells": [
  {
   "cell_type": "code",
   "execution_count": 29,
   "metadata": {},
   "outputs": [],
   "source": [
    "#from NeuralNet.engine import Value\n",
    "import numpy as np"
   ]
  },
  {
   "cell_type": "code",
   "execution_count": 84,
   "metadata": {},
   "outputs": [],
   "source": [
    "class Value:\n",
    "\n",
    "    def __init__(self, data, _children=()):\n",
    "        self.data = data\n",
    "        # To build our graph we need to keep track of which Values (obj) create other Values (obj)\n",
    "        self.children = _children\n",
    "        # Initalise grad at zero and the backwards function as a lambda: None in the case of just a leaf node\n",
    "        self.grad = 0.0\n",
    "        self._backward = lambda: None\n",
    "         \n",
    "    \n",
    "    def __repr__(self) -> str:\n",
    "        return f\"Value(data={self.data})\"\n",
    "    \n",
    "\n",
    "    ################################\n",
    "    ### emulating numerical type ###\n",
    "    ################################\n",
    "    \n",
    "    ##  Want Value obj to safify numerical operations like +, -, /, * ##\n",
    "    ##  In Python a*b+c is a.__mul__(b).__add__(c)\n",
    "\n",
    "    def __add__(self, other):\n",
    "        \"\"\"\n",
    "        Creates a Value object of the sum with children given by the Values (obj) in the sum. \n",
    "        `other` represents the other value in the sum.\n",
    "        \"\"\"\n",
    "\n",
    "        out = Value(self.data + other.data, _children=(self, other))\n",
    "        # In the expression graph, the chain rule is very simple\n",
    "        # it is the previous nodes gradient (which represents the chaining of gradients up to that point) w.r.t final output node\n",
    "        # multiplied by the current \"local\" (local in the expression graph) gradient\n",
    "        # e.g. a*b=c, c+d=e, e+f=g then dg/da = dg/de x de/dc x dc/da \n",
    "        # dg/de x de/dc is the previous nodes gradient (i.e. its dg/dc)\n",
    "        # dc/da is the \"local\" gradient.\n",
    "\n",
    "        # If we are on an addition node then the local gradient is 1\n",
    "        # If we are on a multiplication node then the local gradient is the other parameter (dc/da = b)\n",
    "\n",
    "        def _backward():\n",
    "            self.grad =  out.grad * 1.0\n",
    "            other.grad = out.grad * 1.0\n",
    "        #this is out's backward pass (out represents the addition) e.g c+d=e (if c is self, then d is other and e is out)\n",
    "        #self and other are initalised with lambda : None because they could be leaf nodes, thus no backwards pass\n",
    "        out._backward = _backward\n",
    "        \n",
    "        return out\n",
    "    \n",
    "    def __mul__(self, other):\n",
    "        \"\"\"\n",
    "        Creates a Value object of the product, with children given by the Values (obj) in the product.\n",
    "        a, b are the children that produce c. (c = a*b)\n",
    "        \"\"\"\n",
    "        out = Value(self.data * other.data, _children=(self, other))\n",
    "\n",
    "        def _backward():\n",
    "            self.grad = out.grad * other.data\n",
    "            other.grad = out.grad * self.data\n",
    "        out._backward = _backward\n",
    "\n",
    "        return out \n",
    "    \n",
    "    ############################\n",
    "    ### Activation Functions ###\n",
    "    ############################\n",
    "\n",
    "    ## Can be arbitrarily complicated as long as we know how to differenciate it ##\n",
    "\n",
    "    def tanh(self):\n",
    "        \"\"\"\n",
    "        Creates a Value obj of tanh evaluted on self\n",
    "        \"\"\"\n",
    "        t = (np.exp(2*self.data) - 1)/(np.exp(2*self.data) + 1)\n",
    "        out = Value(t, _children=(self,))\n",
    "\n",
    "        def _backward():\n",
    "            self.grad = out.grad * (1 - t**2) #NOTE: must manunually initalise out.grad to one if out is output node (its currently set to 0)\n",
    "        out._backward = _backward\n",
    "\n",
    "        return out\n"
   ]
  },
  {
   "cell_type": "code",
   "execution_count": 85,
   "metadata": {},
   "outputs": [
    {
     "name": "stdout",
     "output_type": "stream",
     "text": [
      "2.0000000000000018\n"
     ]
    }
   ],
   "source": [
    "### numerical diff ###\n",
    "\n",
    "\n",
    "#inital expression (f(x))\n",
    "a = Value(1.0)\n",
    "b = Value(2.0)\n",
    "c = a*b\n",
    "d = Value(-1.0)\n",
    "e = c + d\n",
    "e1 = e.data\n",
    "\n",
    "h = 0.01\n",
    "\n",
    "#shift a parameter by h (f(x+h)) - in this case a\n",
    "a = Value(1.0 + h)\n",
    "b = Value(2.0)\n",
    "c = a*b\n",
    "d = Value(-1.0)\n",
    "e = c + d\n",
    "e2 = e.data\n",
    "\n",
    "#Derivative of e w.r.t the parameter that is shifted by h\n",
    "#de/da = (f(x+h) - f(x))/h\n",
    "print((e2-e1)/h)"
   ]
  },
  {
   "cell_type": "code",
   "execution_count": 91,
   "metadata": {},
   "outputs": [],
   "source": [
    "#backwards pass step-by-step\n",
    "\n",
    "a = Value(1.2)\n",
    "b = Value(2.3) \n",
    "c = a*b\n",
    "d = Value(-0.7)\n",
    "e = c + d\n",
    "o = e.tanh()"
   ]
  },
  {
   "cell_type": "code",
   "execution_count": 92,
   "metadata": {},
   "outputs": [
    {
     "name": "stdout",
     "output_type": "stream",
     "text": [
      "0.06291733186271753\n"
     ]
    }
   ],
   "source": [
    "#working backwards...\n",
    "o.grad = 1.0 # o is output (root node) so do/do is 1 (currently its initalised with 0) so must manually overwrite\n",
    "o._backward()\n",
    "print(e.grad)"
   ]
  },
  {
   "cell_type": "code",
   "execution_count": 93,
   "metadata": {},
   "outputs": [
    {
     "name": "stdout",
     "output_type": "stream",
     "text": [
      "0.06291733186271753\n",
      "0.06291733186271753\n"
     ]
    }
   ],
   "source": [
    "e._backward()\n",
    "print(c.grad)\n",
    "print(d.grad)\n",
    "#the same as expected (previous grad * 1.0)"
   ]
  },
  {
   "cell_type": "code",
   "execution_count": 94,
   "metadata": {},
   "outputs": [
    {
     "name": "stdout",
     "output_type": "stream",
     "text": [
      "0.1447098632842503\n",
      "0.07550079823526103\n"
     ]
    }
   ],
   "source": [
    "c._backward()\n",
    "print(a.grad)\n",
    "print(b.grad)"
   ]
  },
  {
   "cell_type": "code",
   "execution_count": 96,
   "metadata": {},
   "outputs": [
    {
     "data": {
      "text/plain": [
       "[Value(data=2.76),\n",
       " Value(data=2.76),\n",
       " Value(data=2.0599999999999996),\n",
       " Value(data=2.0599999999999996),\n",
       " Value(data=0.9680303033155948)]"
      ]
     },
     "execution_count": 96,
     "metadata": {},
     "output_type": "execute_result"
    }
   ],
   "source": [
    "topo = []\n",
    "visted = set()\n",
    "\n",
    "def build_topo(value):\n",
    "    if value not in visted:\n",
    "        visted.add(value)\n",
    "        for child in value.children:\n",
    "            build_topo(child) #recursively add if to visted (if we havent visted)\n",
    "            topo.append(value)\n",
    "build_topo(o)\n",
    "topo"
   ]
  },
  {
   "cell_type": "code",
   "execution_count": null,
   "metadata": {},
   "outputs": [],
   "source": []
  }
 ],
 "metadata": {
  "kernelspec": {
   "display_name": ".venv",
   "language": "python",
   "name": "python3"
  },
  "language_info": {
   "codemirror_mode": {
    "name": "ipython",
    "version": 3
   },
   "file_extension": ".py",
   "mimetype": "text/x-python",
   "name": "python",
   "nbconvert_exporter": "python",
   "pygments_lexer": "ipython3",
   "version": "3.11.4"
  }
 },
 "nbformat": 4,
 "nbformat_minor": 2
}
