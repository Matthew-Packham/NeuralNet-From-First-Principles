{
 "cells": [
  {
   "cell_type": "code",
   "execution_count": 36,
   "metadata": {},
   "outputs": [],
   "source": [
    "from NeuralNet.engine import Value\n",
    "import numpy as np"
   ]
  },
  {
   "cell_type": "code",
   "execution_count": 41,
   "metadata": {},
   "outputs": [],
   "source": [
    "class Value:\n",
    "\n",
    "    def __init__(self, data, _children=()):\n",
    "        self.data = data\n",
    "        # To build our graph we need to keep track of which Values (obj) create other Values (obj)\n",
    "        self.children = set(_children)\n",
    "        # Initalise grad at zero and the backwards function as a lambda: None in the case of just a leaf node\n",
    "        self.grad = 0.0\n",
    "        self._backward = lambda: None\n",
    "         \n",
    "    \n",
    "    def __repr__(self) -> str:\n",
    "        return f\"Value(data={self.data})\"\n",
    "    \n",
    "\n",
    "    ################################\n",
    "    ### emulating numerical type ###\n",
    "    ################################\n",
    "    \n",
    "    ##  Want Value obj to safify numerical operations like +, -, /, * ##\n",
    "    ##  In Python a*b+c is a.__mul__(b).__add__(c)\n",
    "\n",
    "    def __add__(self, other):\n",
    "        \"\"\"\n",
    "        Creates a Value object of the sum with children given by the Values (obj) in the sum. \n",
    "        `other` represents the other value in the sum.\n",
    "        \"\"\"\n",
    "        return Value(self.data + other.data, _children=(self, other))\n",
    "    \n",
    "    def __mul__(self, other):\n",
    "        \"\"\"\n",
    "        Creates a Value object of the product, with children given by the Values (obj) in the product.\n",
    "        a, b are the children that produce c. (c = a*b)\n",
    "        \"\"\"\n",
    "        return Value(self.data * other.data, _children=(self, other))\n",
    "    \n",
    "    ############################\n",
    "    ### Activation Functions ###\n",
    "    ############################\n",
    "\n",
    "    ## Can be arbitrarily complicated as long as we know how to differenciate it ##\n",
    "\n",
    "    def tanh(self):\n",
    "        \"\"\"\n",
    "        Creates a Value obj of tanh evaluted on self\n",
    "        \"\"\"\n",
    "        t = (np.exp(2*self.data) - 1)/(np.exp(2*self.data) + 1)\n",
    "        return Value(t, _children=(self,))\n",
    "\n"
   ]
  },
  {
   "cell_type": "code",
   "execution_count": 42,
   "metadata": {},
   "outputs": [
    {
     "name": "stdout",
     "output_type": "stream",
     "text": [
      "7.000000000000028\n"
     ]
    }
   ],
   "source": [
    "### numerical diff ###\n",
    "\n",
    "\n",
    "#inital expression (f(x))\n",
    "a = Value(3.0)\n",
    "b = Value(7.0)\n",
    "c = a*b\n",
    "d = Value(-1.0)\n",
    "e = c + d\n",
    "e1 = e.data\n",
    "\n",
    "h = 0.01\n",
    "\n",
    "#shift a parameter by h (f(x+h))\n",
    "a = Value(3.0 + h)\n",
    "b = Value(7.0)\n",
    "c = a*b\n",
    "d = Value(-1.0)\n",
    "e = c + d\n",
    "e2 = e.data\n",
    "\n",
    "#Derivative of e w.r.t the parameter that is shifted by h\n",
    "#(f(x+h) - f(x))/h\n",
    "print((e2-e1)/h)"
   ]
  },
  {
   "cell_type": "code",
   "execution_count": 43,
   "metadata": {},
   "outputs": [
    {
     "data": {
      "text/plain": [
       "Value(data=0.9951524387820521)"
      ]
     },
     "execution_count": 43,
     "metadata": {},
     "output_type": "execute_result"
    }
   ],
   "source": [
    "a.tanh()"
   ]
  },
  {
   "cell_type": "code",
   "execution_count": null,
   "metadata": {},
   "outputs": [],
   "source": []
  }
 ],
 "metadata": {
  "kernelspec": {
   "display_name": ".venv",
   "language": "python",
   "name": "python3"
  },
  "language_info": {
   "codemirror_mode": {
    "name": "ipython",
    "version": 3
   },
   "file_extension": ".py",
   "mimetype": "text/x-python",
   "name": "python",
   "nbconvert_exporter": "python",
   "pygments_lexer": "ipython3",
   "version": "3.11.4"
  }
 },
 "nbformat": 4,
 "nbformat_minor": 2
}
